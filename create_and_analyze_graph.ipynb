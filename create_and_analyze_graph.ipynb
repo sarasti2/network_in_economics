{
  "nbformat": 4,
  "nbformat_minor": 0,
  "metadata": {
    "colab": {
      "provenance": [],
      "authorship_tag": "ABX9TyN7qpZd3upBIPB4EqM1bKR5",
      "include_colab_link": true
    },
    "kernelspec": {
      "name": "python3",
      "display_name": "Python 3"
    },
    "language_info": {
      "name": "python"
    }
  },
  "cells": [
    {
      "cell_type": "markdown",
      "metadata": {
        "id": "view-in-github",
        "colab_type": "text"
      },
      "source": [
        "<a href=\"https://colab.research.google.com/github/sarasti2/network_in_economics/blob/main/create_and_analyze_graph.ipynb\" target=\"_parent\"><img src=\"https://colab.research.google.com/assets/colab-badge.svg\" alt=\"Open In Colab\"/></a>"
      ]
    },
    {
      "cell_type": "code",
      "source": [
        "# Initial configuration\n",
        "\n",
        "import pandas as pd\n",
        "import requests\n",
        "import numpy as np\n",
        "import networkx as nx\n",
        "import matplotlib.pyplot as plt\n",
        "from IPython.display import display\n",
        "from io import StringIO\n",
        "from networkx.algorithms.assortativity import attribute_assortativity_coefficient"
      ],
      "metadata": {
        "id": "IaHxW5m-OxHq"
      },
      "execution_count": 33,
      "outputs": []
    },
    {
      "cell_type": "markdown",
      "source": [
        "# Mini-Project: Networks in Economics  \n",
        "**Summer School in Economics 2025**\n",
        "\n",
        "**Authors**: Alejandro Sarasti, Juan Sebastián Osorno, María Paula Murcia  \n",
        "\n",
        "This mini-project is part of the Summer Course on Networks in Economics. The objective is to create and analyze the friendship network among students participating in the course.\n"
      ],
      "metadata": {
        "id": "s4LNly8SNrgY"
      }
    },
    {
      "cell_type": "markdown",
      "source": [
        "## Load matrix of the network of friends"
      ],
      "metadata": {
        "id": "4WKkdV2MOaHm"
      }
    },
    {
      "cell_type": "code",
      "metadata": {
        "colab": {
          "base_uri": "https://localhost:8080/",
          "height": 284
        },
        "collapsed": true,
        "id": "W7i2B7548sQj",
        "outputId": "e64b3bd3-cd14-4fe7-958a-d7283c579a48"
      },
      "source": [
        "\n",
        "# URL of the raw CSV file on GitHub\n",
        "github_url = 'https://raw.githubusercontent.com/sarasti2/network_in_economics/main/graph_matrix_friends.csv'\n",
        "\n",
        "try:\n",
        "    # Download the CSV file from the GitHub URL\n",
        "    response = requests.get(github_url)\n",
        "    response.raise_for_status() # Raise an exception for bad status codes\n",
        "\n",
        "    # Read the content into a pandas DataFrame\n",
        "    friendship_matrix = pd.read_csv(StringIO(response.text), index_col=0)\n",
        "    friendship_matrix = friendship_matrix.drop(columns=['Unnamed: 4', \"Unnamed: 5\", \"Student's name\"])\n",
        "\n",
        "    # Display the first few rows of the matrix\n",
        "    print(\"Friendship Matrix (first 5 rows):\")\n",
        "    display(friendship_matrix.head())\n",
        "\n",
        "except requests.exceptions.RequestException as e:\n",
        "    print(f\"Error downloading the file: {e}\")\n",
        "except Exception as e:\n",
        "    print(f\"An error occurred: {e}\")"
      ],
      "execution_count": 2,
      "outputs": [
        {
          "output_type": "stream",
          "name": "stdout",
          "text": [
            "Friendship Matrix (first 5 rows):\n"
          ]
        },
        {
          "output_type": "display_data",
          "data": {
            "text/plain": [
              "                 Student's gender    Student's type  1  2  3  4  5  6  7  8  \\\n",
              "Student's number                                                              \n",
              "1                            Male  Master's student  0  0  0  0  0  0  0  0   \n",
              "2                          Female  Master's student  0  0  1  0  0  0  0  0   \n",
              "3                          Female  Master's student  0  1  0  0  0  0  1  1   \n",
              "4                            Male  Master's student  0  0  0  0  0  1  0  0   \n",
              "5                            Male  Master's student  0  0  0  0  0  0  0  0   \n",
              "\n",
              "                  ...  27  28  29  30  31  32  33  34  35  36  \n",
              "Student's number  ...                                          \n",
              "1                 ...   0   0   0   0   0   0   0   0   0   0  \n",
              "2                 ...   0   0   0   0   0   0   0   0   0   1  \n",
              "3                 ...   0   0   0   0   0   0   0   0   0   1  \n",
              "4                 ...   0   0   0   0   0   1   0   0   0   0  \n",
              "5                 ...   0   0   1   0   0   0   0   0   1   0  \n",
              "\n",
              "[5 rows x 38 columns]"
            ],
            "text/html": [
              "\n",
              "  <div id=\"df-5d95554c-0a1a-4f53-ae73-4a74a2da86a6\" class=\"colab-df-container\">\n",
              "    <div>\n",
              "<style scoped>\n",
              "    .dataframe tbody tr th:only-of-type {\n",
              "        vertical-align: middle;\n",
              "    }\n",
              "\n",
              "    .dataframe tbody tr th {\n",
              "        vertical-align: top;\n",
              "    }\n",
              "\n",
              "    .dataframe thead th {\n",
              "        text-align: right;\n",
              "    }\n",
              "</style>\n",
              "<table border=\"1\" class=\"dataframe\">\n",
              "  <thead>\n",
              "    <tr style=\"text-align: right;\">\n",
              "      <th></th>\n",
              "      <th>Student's gender</th>\n",
              "      <th>Student's type</th>\n",
              "      <th>1</th>\n",
              "      <th>2</th>\n",
              "      <th>3</th>\n",
              "      <th>4</th>\n",
              "      <th>5</th>\n",
              "      <th>6</th>\n",
              "      <th>7</th>\n",
              "      <th>8</th>\n",
              "      <th>...</th>\n",
              "      <th>27</th>\n",
              "      <th>28</th>\n",
              "      <th>29</th>\n",
              "      <th>30</th>\n",
              "      <th>31</th>\n",
              "      <th>32</th>\n",
              "      <th>33</th>\n",
              "      <th>34</th>\n",
              "      <th>35</th>\n",
              "      <th>36</th>\n",
              "    </tr>\n",
              "    <tr>\n",
              "      <th>Student's number</th>\n",
              "      <th></th>\n",
              "      <th></th>\n",
              "      <th></th>\n",
              "      <th></th>\n",
              "      <th></th>\n",
              "      <th></th>\n",
              "      <th></th>\n",
              "      <th></th>\n",
              "      <th></th>\n",
              "      <th></th>\n",
              "      <th></th>\n",
              "      <th></th>\n",
              "      <th></th>\n",
              "      <th></th>\n",
              "      <th></th>\n",
              "      <th></th>\n",
              "      <th></th>\n",
              "      <th></th>\n",
              "      <th></th>\n",
              "      <th></th>\n",
              "      <th></th>\n",
              "    </tr>\n",
              "  </thead>\n",
              "  <tbody>\n",
              "    <tr>\n",
              "      <th>1</th>\n",
              "      <td>Male</td>\n",
              "      <td>Master's student</td>\n",
              "      <td>0</td>\n",
              "      <td>0</td>\n",
              "      <td>0</td>\n",
              "      <td>0</td>\n",
              "      <td>0</td>\n",
              "      <td>0</td>\n",
              "      <td>0</td>\n",
              "      <td>0</td>\n",
              "      <td>...</td>\n",
              "      <td>0</td>\n",
              "      <td>0</td>\n",
              "      <td>0</td>\n",
              "      <td>0</td>\n",
              "      <td>0</td>\n",
              "      <td>0</td>\n",
              "      <td>0</td>\n",
              "      <td>0</td>\n",
              "      <td>0</td>\n",
              "      <td>0</td>\n",
              "    </tr>\n",
              "    <tr>\n",
              "      <th>2</th>\n",
              "      <td>Female</td>\n",
              "      <td>Master's student</td>\n",
              "      <td>0</td>\n",
              "      <td>0</td>\n",
              "      <td>1</td>\n",
              "      <td>0</td>\n",
              "      <td>0</td>\n",
              "      <td>0</td>\n",
              "      <td>0</td>\n",
              "      <td>0</td>\n",
              "      <td>...</td>\n",
              "      <td>0</td>\n",
              "      <td>0</td>\n",
              "      <td>0</td>\n",
              "      <td>0</td>\n",
              "      <td>0</td>\n",
              "      <td>0</td>\n",
              "      <td>0</td>\n",
              "      <td>0</td>\n",
              "      <td>0</td>\n",
              "      <td>1</td>\n",
              "    </tr>\n",
              "    <tr>\n",
              "      <th>3</th>\n",
              "      <td>Female</td>\n",
              "      <td>Master's student</td>\n",
              "      <td>0</td>\n",
              "      <td>1</td>\n",
              "      <td>0</td>\n",
              "      <td>0</td>\n",
              "      <td>0</td>\n",
              "      <td>0</td>\n",
              "      <td>1</td>\n",
              "      <td>1</td>\n",
              "      <td>...</td>\n",
              "      <td>0</td>\n",
              "      <td>0</td>\n",
              "      <td>0</td>\n",
              "      <td>0</td>\n",
              "      <td>0</td>\n",
              "      <td>0</td>\n",
              "      <td>0</td>\n",
              "      <td>0</td>\n",
              "      <td>0</td>\n",
              "      <td>1</td>\n",
              "    </tr>\n",
              "    <tr>\n",
              "      <th>4</th>\n",
              "      <td>Male</td>\n",
              "      <td>Master's student</td>\n",
              "      <td>0</td>\n",
              "      <td>0</td>\n",
              "      <td>0</td>\n",
              "      <td>0</td>\n",
              "      <td>0</td>\n",
              "      <td>1</td>\n",
              "      <td>0</td>\n",
              "      <td>0</td>\n",
              "      <td>...</td>\n",
              "      <td>0</td>\n",
              "      <td>0</td>\n",
              "      <td>0</td>\n",
              "      <td>0</td>\n",
              "      <td>0</td>\n",
              "      <td>1</td>\n",
              "      <td>0</td>\n",
              "      <td>0</td>\n",
              "      <td>0</td>\n",
              "      <td>0</td>\n",
              "    </tr>\n",
              "    <tr>\n",
              "      <th>5</th>\n",
              "      <td>Male</td>\n",
              "      <td>Master's student</td>\n",
              "      <td>0</td>\n",
              "      <td>0</td>\n",
              "      <td>0</td>\n",
              "      <td>0</td>\n",
              "      <td>0</td>\n",
              "      <td>0</td>\n",
              "      <td>0</td>\n",
              "      <td>0</td>\n",
              "      <td>...</td>\n",
              "      <td>0</td>\n",
              "      <td>0</td>\n",
              "      <td>1</td>\n",
              "      <td>0</td>\n",
              "      <td>0</td>\n",
              "      <td>0</td>\n",
              "      <td>0</td>\n",
              "      <td>0</td>\n",
              "      <td>1</td>\n",
              "      <td>0</td>\n",
              "    </tr>\n",
              "  </tbody>\n",
              "</table>\n",
              "<p>5 rows × 38 columns</p>\n",
              "</div>\n",
              "    <div class=\"colab-df-buttons\">\n",
              "\n",
              "  <div class=\"colab-df-container\">\n",
              "    <button class=\"colab-df-convert\" onclick=\"convertToInteractive('df-5d95554c-0a1a-4f53-ae73-4a74a2da86a6')\"\n",
              "            title=\"Convert this dataframe to an interactive table.\"\n",
              "            style=\"display:none;\">\n",
              "\n",
              "  <svg xmlns=\"http://www.w3.org/2000/svg\" height=\"24px\" viewBox=\"0 -960 960 960\">\n",
              "    <path d=\"M120-120v-720h720v720H120Zm60-500h600v-160H180v160Zm220 220h160v-160H400v160Zm0 220h160v-160H400v160ZM180-400h160v-160H180v160Zm440 0h160v-160H620v160ZM180-180h160v-160H180v160Zm440 0h160v-160H620v160Z\"/>\n",
              "  </svg>\n",
              "    </button>\n",
              "\n",
              "  <style>\n",
              "    .colab-df-container {\n",
              "      display:flex;\n",
              "      gap: 12px;\n",
              "    }\n",
              "\n",
              "    .colab-df-convert {\n",
              "      background-color: #E8F0FE;\n",
              "      border: none;\n",
              "      border-radius: 50%;\n",
              "      cursor: pointer;\n",
              "      display: none;\n",
              "      fill: #1967D2;\n",
              "      height: 32px;\n",
              "      padding: 0 0 0 0;\n",
              "      width: 32px;\n",
              "    }\n",
              "\n",
              "    .colab-df-convert:hover {\n",
              "      background-color: #E2EBFA;\n",
              "      box-shadow: 0px 1px 2px rgba(60, 64, 67, 0.3), 0px 1px 3px 1px rgba(60, 64, 67, 0.15);\n",
              "      fill: #174EA6;\n",
              "    }\n",
              "\n",
              "    .colab-df-buttons div {\n",
              "      margin-bottom: 4px;\n",
              "    }\n",
              "\n",
              "    [theme=dark] .colab-df-convert {\n",
              "      background-color: #3B4455;\n",
              "      fill: #D2E3FC;\n",
              "    }\n",
              "\n",
              "    [theme=dark] .colab-df-convert:hover {\n",
              "      background-color: #434B5C;\n",
              "      box-shadow: 0px 1px 3px 1px rgba(0, 0, 0, 0.15);\n",
              "      filter: drop-shadow(0px 1px 2px rgba(0, 0, 0, 0.3));\n",
              "      fill: #FFFFFF;\n",
              "    }\n",
              "  </style>\n",
              "\n",
              "    <script>\n",
              "      const buttonEl =\n",
              "        document.querySelector('#df-5d95554c-0a1a-4f53-ae73-4a74a2da86a6 button.colab-df-convert');\n",
              "      buttonEl.style.display =\n",
              "        google.colab.kernel.accessAllowed ? 'block' : 'none';\n",
              "\n",
              "      async function convertToInteractive(key) {\n",
              "        const element = document.querySelector('#df-5d95554c-0a1a-4f53-ae73-4a74a2da86a6');\n",
              "        const dataTable =\n",
              "          await google.colab.kernel.invokeFunction('convertToInteractive',\n",
              "                                                    [key], {});\n",
              "        if (!dataTable) return;\n",
              "\n",
              "        const docLinkHtml = 'Like what you see? Visit the ' +\n",
              "          '<a target=\"_blank\" href=https://colab.research.google.com/notebooks/data_table.ipynb>data table notebook</a>'\n",
              "          + ' to learn more about interactive tables.';\n",
              "        element.innerHTML = '';\n",
              "        dataTable['output_type'] = 'display_data';\n",
              "        await google.colab.output.renderOutput(dataTable, element);\n",
              "        const docLink = document.createElement('div');\n",
              "        docLink.innerHTML = docLinkHtml;\n",
              "        element.appendChild(docLink);\n",
              "      }\n",
              "    </script>\n",
              "  </div>\n",
              "\n",
              "\n",
              "    <div id=\"df-9c3f989c-556a-45dc-bf01-4a76c105ed58\">\n",
              "      <button class=\"colab-df-quickchart\" onclick=\"quickchart('df-9c3f989c-556a-45dc-bf01-4a76c105ed58')\"\n",
              "                title=\"Suggest charts\"\n",
              "                style=\"display:none;\">\n",
              "\n",
              "<svg xmlns=\"http://www.w3.org/2000/svg\" height=\"24px\"viewBox=\"0 0 24 24\"\n",
              "     width=\"24px\">\n",
              "    <g>\n",
              "        <path d=\"M19 3H5c-1.1 0-2 .9-2 2v14c0 1.1.9 2 2 2h14c1.1 0 2-.9 2-2V5c0-1.1-.9-2-2-2zM9 17H7v-7h2v7zm4 0h-2V7h2v10zm4 0h-2v-4h2v4z\"/>\n",
              "    </g>\n",
              "</svg>\n",
              "      </button>\n",
              "\n",
              "<style>\n",
              "  .colab-df-quickchart {\n",
              "      --bg-color: #E8F0FE;\n",
              "      --fill-color: #1967D2;\n",
              "      --hover-bg-color: #E2EBFA;\n",
              "      --hover-fill-color: #174EA6;\n",
              "      --disabled-fill-color: #AAA;\n",
              "      --disabled-bg-color: #DDD;\n",
              "  }\n",
              "\n",
              "  [theme=dark] .colab-df-quickchart {\n",
              "      --bg-color: #3B4455;\n",
              "      --fill-color: #D2E3FC;\n",
              "      --hover-bg-color: #434B5C;\n",
              "      --hover-fill-color: #FFFFFF;\n",
              "      --disabled-bg-color: #3B4455;\n",
              "      --disabled-fill-color: #666;\n",
              "  }\n",
              "\n",
              "  .colab-df-quickchart {\n",
              "    background-color: var(--bg-color);\n",
              "    border: none;\n",
              "    border-radius: 50%;\n",
              "    cursor: pointer;\n",
              "    display: none;\n",
              "    fill: var(--fill-color);\n",
              "    height: 32px;\n",
              "    padding: 0;\n",
              "    width: 32px;\n",
              "  }\n",
              "\n",
              "  .colab-df-quickchart:hover {\n",
              "    background-color: var(--hover-bg-color);\n",
              "    box-shadow: 0 1px 2px rgba(60, 64, 67, 0.3), 0 1px 3px 1px rgba(60, 64, 67, 0.15);\n",
              "    fill: var(--button-hover-fill-color);\n",
              "  }\n",
              "\n",
              "  .colab-df-quickchart-complete:disabled,\n",
              "  .colab-df-quickchart-complete:disabled:hover {\n",
              "    background-color: var(--disabled-bg-color);\n",
              "    fill: var(--disabled-fill-color);\n",
              "    box-shadow: none;\n",
              "  }\n",
              "\n",
              "  .colab-df-spinner {\n",
              "    border: 2px solid var(--fill-color);\n",
              "    border-color: transparent;\n",
              "    border-bottom-color: var(--fill-color);\n",
              "    animation:\n",
              "      spin 1s steps(1) infinite;\n",
              "  }\n",
              "\n",
              "  @keyframes spin {\n",
              "    0% {\n",
              "      border-color: transparent;\n",
              "      border-bottom-color: var(--fill-color);\n",
              "      border-left-color: var(--fill-color);\n",
              "    }\n",
              "    20% {\n",
              "      border-color: transparent;\n",
              "      border-left-color: var(--fill-color);\n",
              "      border-top-color: var(--fill-color);\n",
              "    }\n",
              "    30% {\n",
              "      border-color: transparent;\n",
              "      border-left-color: var(--fill-color);\n",
              "      border-top-color: var(--fill-color);\n",
              "      border-right-color: var(--fill-color);\n",
              "    }\n",
              "    40% {\n",
              "      border-color: transparent;\n",
              "      border-right-color: var(--fill-color);\n",
              "      border-top-color: var(--fill-color);\n",
              "    }\n",
              "    60% {\n",
              "      border-color: transparent;\n",
              "      border-right-color: var(--fill-color);\n",
              "    }\n",
              "    80% {\n",
              "      border-color: transparent;\n",
              "      border-right-color: var(--fill-color);\n",
              "      border-bottom-color: var(--fill-color);\n",
              "    }\n",
              "    90% {\n",
              "      border-color: transparent;\n",
              "      border-bottom-color: var(--fill-color);\n",
              "    }\n",
              "  }\n",
              "</style>\n",
              "\n",
              "      <script>\n",
              "        async function quickchart(key) {\n",
              "          const quickchartButtonEl =\n",
              "            document.querySelector('#' + key + ' button');\n",
              "          quickchartButtonEl.disabled = true;  // To prevent multiple clicks.\n",
              "          quickchartButtonEl.classList.add('colab-df-spinner');\n",
              "          try {\n",
              "            const charts = await google.colab.kernel.invokeFunction(\n",
              "                'suggestCharts', [key], {});\n",
              "          } catch (error) {\n",
              "            console.error('Error during call to suggestCharts:', error);\n",
              "          }\n",
              "          quickchartButtonEl.classList.remove('colab-df-spinner');\n",
              "          quickchartButtonEl.classList.add('colab-df-quickchart-complete');\n",
              "        }\n",
              "        (() => {\n",
              "          let quickchartButtonEl =\n",
              "            document.querySelector('#df-9c3f989c-556a-45dc-bf01-4a76c105ed58 button');\n",
              "          quickchartButtonEl.style.display =\n",
              "            google.colab.kernel.accessAllowed ? 'block' : 'none';\n",
              "        })();\n",
              "      </script>\n",
              "    </div>\n",
              "\n",
              "    </div>\n",
              "  </div>\n"
            ],
            "application/vnd.google.colaboratory.intrinsic+json": {
              "type": "dataframe"
            }
          },
          "metadata": {}
        }
      ]
    },
    {
      "cell_type": "markdown",
      "source": [
        "## Visualize the graph\n"
      ],
      "metadata": {
        "id": "5ry07B4zQ5jI"
      }
    },
    {
      "cell_type": "code",
      "metadata": {
        "colab": {
          "base_uri": "https://localhost:8080/"
        },
        "id": "2db9a1b0",
        "outputId": "048633e6-97d4-48a4-b138-d9622e496ffb"
      },
      "source": [
        "# Select only the columns that are student numbers (integers)\n",
        "adj_matrix = friendship_matrix.select_dtypes(include=[np.number])\n",
        "\n",
        "# Convert the DataFrame to a NumPy array\n",
        "adj_array = adj_matrix.values\n",
        "\n",
        "# Create a NetworkX graph object from the NumPy array\n",
        "G = nx.from_numpy_array(adj_array)\n",
        "\n",
        "# Print information about the graph\n",
        "print(\"Number of nodes:\", G.number_of_nodes())\n",
        "print(\"Number of edges:\", G.number_of_edges())"
      ],
      "execution_count": 3,
      "outputs": [
        {
          "output_type": "stream",
          "name": "stdout",
          "text": [
            "Number of nodes: 36\n",
            "Number of edges: 74\n"
          ]
        }
      ]
    },
    {
      "cell_type": "code",
      "metadata": {
        "colab": {
          "base_uri": "https://localhost:8080/"
        },
        "id": "cebf27a7",
        "outputId": "ea9aaaf5-96f2-46ff-c7d8-e67c006e144d"
      },
      "source": [
        "for index, row in friendship_matrix.iterrows():\n",
        "    # Get the student number (index in the original dataframe)\n",
        "    student_number = index\n",
        "\n",
        "    # Get the corresponding node index in the NetworkX graph (0-indexed)\n",
        "    node_index = student_number - 1\n",
        "\n",
        "    # Check if the node exists in the graph\n",
        "    if node_index in G.nodes():\n",
        "        # Extract attributes\n",
        "        gender = row[\"Student's gender\"]\n",
        "        student_type = row[\"Student's type\"]\n",
        "\n",
        "        # Add attributes to the node\n",
        "        G.nodes[node_index]['gender'] = gender\n",
        "        G.nodes[node_index]['type'] = student_type\n",
        "    else:\n",
        "        print(f\"Warning: Node with index {node_index} (corresponding to student {student_number}) not found in the graph.\")\n",
        "\n",
        "#Verify attributes for a few nodes\n",
        "print(\"\\nNode attributes for node 0 (Student 1):\", G.nodes[0])\n",
        "print(\"Node attributes for node 1 (Student 2):\", G.nodes[1])\n",
        "print(\"Node attributes for node 35 (Student 36):\", G.nodes[35])"
      ],
      "execution_count": 4,
      "outputs": [
        {
          "output_type": "stream",
          "name": "stdout",
          "text": [
            "\n",
            "Node attributes for node 0 (Student 1): {'gender': 'Male', 'type': \"Master's student\"}\n",
            "Node attributes for node 1 (Student 2): {'gender': 'Female', 'type': \"Master's student\"}\n",
            "Node attributes for node 35 (Student 36): {'gender': 'Male', 'type': \"Master's student\"}\n"
          ]
        }
      ]
    },
    {
      "cell_type": "code",
      "metadata": {
        "colab": {
          "base_uri": "https://localhost:8080/",
          "height": 829
        },
        "collapsed": true,
        "id": "a2fd7ee5",
        "outputId": "215bfed0-c33a-4b6d-a2eb-9d5a850bccf0"
      },
      "source": [
        "# Define node colors based on gender\n",
        "gender_map = {'Male': 'skyblue', 'Female': 'salmon'}\n",
        "node_colors = [gender_map[G.nodes[node]['gender']] for node in G.nodes()]\n",
        "\n",
        "# Define node shapes based on student type\n",
        "type_map = {\"Master's student\": 'o', 'Undergraduate student': 's'}\n",
        "node_shapes = [type_map[G.nodes[node]['type']] for node in G.nodes()]\n",
        "\n",
        "# Define the layout for the graph with increased spacing\n",
        "pos = nx.spring_layout(G, k=0.3) # Increase k for more spacing\n",
        "\n",
        "# Draw the graph\n",
        "plt.figure(figsize=(12, 10))\n",
        "for i, node in enumerate(G.nodes()):\n",
        "    nx.draw_networkx_nodes(G, pos, nodelist=[node], node_color=node_colors[i], node_shape=node_shapes[i], node_size=200, label=f\"{G.nodes[node]['gender']}, {G.nodes[node]['type']}\")\n",
        "nx.draw_networkx_edges(G, pos, alpha=0.5)\n",
        "\n",
        "# Create a legend for gender\n",
        "gender_legend_elements = [plt.Line2D([0], [0], marker='o', color='w', label='Male',\n",
        "                          markerfacecolor='skyblue', markersize=10),\n",
        "                          plt.Line2D([0], [0], marker='o', color='w', label='Female',\n",
        "                          markerfacecolor='salmon', markersize=10)]\n",
        "\n",
        "# Create a legend for student type\n",
        "type_legend_elements = [plt.Line2D([0], [0], marker='o', color='w', label=\"Master's student\",\n",
        "                          markerfacecolor='gray', markersize=10),\n",
        "                        plt.Line2D([0], [0], marker='s', color='w', label='Undergraduate student',\n",
        "                          markerfacecolor='gray', markersize=10)]\n",
        "\n",
        "legend1 = plt.legend(handles=gender_legend_elements, loc='upper right', title='Gender')\n",
        "plt.gca().add_artist(legend1)\n",
        "\n",
        "legend2 = plt.legend(handles=type_legend_elements, loc='upper left', title='Student Type')\n",
        "\n",
        "\n",
        "plt.title(\"Friendship Network\")\n",
        "plt.axis('off') # Hide axes\n",
        "plt.show()"
      ],
      "execution_count": 21,
      "outputs": [
        {
          "output_type": "display_data",
          "data": {
            "text/plain": [
              "<Figure size 1200x1000 with 1 Axes>"
            ],
            "image/png": "[encoded data removed]"
          },
          "metadata": {}
        }
      ]
    },
    {
      "cell_type": "markdown",
      "metadata": {
        "id": "256fd4c1"
      },
      "source": [
        "## Network Properties Calculation\n",
        "\n",
        "Now, let's calculate some key network properties to understand the structure of the friendship graph."
      ]
    },
    {
      "cell_type": "markdown",
      "source": [
        "### Degree Distribution\n"
      ],
      "metadata": {
        "id": "XY_7WKeqkid-"
      }
    },
    {
      "cell_type": "code",
      "metadata": {
        "colab": {
          "base_uri": "https://localhost:8080/",
          "height": 755
        },
        "id": "8692b4cd",
        "outputId": "d636fa0c-9b7e-47ac-c259-8d91243b246f"
      },
      "source": [
        "# Calculate Degree Distribution\n",
        "degree_sequence = sorted([d for n, d in G.degree()], reverse=True)\n",
        "degree_counts = {}\n",
        "for degree in degree_sequence:\n",
        "    degree_counts[degree] = degree_counts.get(degree, 0) + 1\n",
        "\n",
        "print(\"Degree Distribution:\")\n",
        "for degree, count in degree_counts.items():\n",
        "    print(f\"Degree {degree}: {count} nodes\")\n",
        "\n",
        "plt.figure(figsize=(10, 6))\n",
        "plt.bar(list(degree_counts.keys()), list(degree_counts.values()))\n",
        "plt.title(\"Degree Distribution\")\n",
        "plt.xlabel(\"Degree\")\n",
        "plt.ylabel(\"Number of Nodes\")\n",
        "plt.show()"
      ],
      "execution_count": 6,
      "outputs": [
        {
          "output_type": "stream",
          "name": "stdout",
          "text": [
            "Degree Distribution:\n",
            "Degree 10: 1 nodes\n",
            "Degree 9: 2 nodes\n",
            "Degree 8: 1 nodes\n",
            "Degree 7: 4 nodes\n",
            "Degree 5: 7 nodes\n",
            "Degree 4: 4 nodes\n",
            "Degree 3: 8 nodes\n",
            "Degree 2: 3 nodes\n",
            "Degree 1: 3 nodes\n",
            "Degree 0: 3 nodes\n"
          ]
        },
        {
          "output_type": "display_data",
          "data": {
            "text/plain": [
              "<Figure size 1000x600 with 1 Axes>"
            ],
            "image/png": "[encoded data removed]"
          },
          "metadata": {}
        }
      ]
    },
    {
      "cell_type": "code",
      "metadata": {
        "colab": {
          "base_uri": "https://localhost:8080/"
        },
        "id": "99097d78",
        "outputId": "30054fc7-2551-44bb-b61d-b5521ececc45"
      },
      "source": [
        "# Calculate Mean Degree\n",
        "mean_degree = sum(dict(G.degree()).values()) / G.number_of_nodes()\n",
        "print(f\"\\nMean Degree: {mean_degree:.2f}\")\n",
        "\n",
        "# Calculate Degree Variance\n",
        "degrees = np.array([d for n, d in G.degree()])\n",
        "degree_variance = np.var(degrees)\n",
        "print(f\"Degree Variance: {degree_variance:.2f}\")\n",
        "\n",
        "# Calculate Network Density\n",
        "density = nx.density(G)\n",
        "print(f\"Network Density: {density:.4f}\")"
      ],
      "execution_count": 7,
      "outputs": [
        {
          "output_type": "stream",
          "name": "stdout",
          "text": [
            "\n",
            "Mean Degree: 4.11\n",
            "Degree Variance: 6.65\n",
            "Network Density: 0.1175\n"
          ]
        }
      ]
    },
    {
      "cell_type": "markdown",
      "source": [
        "### Average distance for the largest component"
      ],
      "metadata": {
        "id": "MgBG1tqVlBae"
      }
    },
    {
      "cell_type": "code",
      "metadata": {
        "colab": {
          "base_uri": "https://localhost:8080/"
        },
        "id": "85e57f22",
        "outputId": "944a10fa-d074-40d6-b3d1-a34b0418945f"
      },
      "source": [
        "# Calculate Average Shortest Path Length for the largest connected component\n",
        "\n",
        "if nx.is_connected(G):\n",
        "    avg_shortest_path = nx.average_shortest_path_length(G)\n",
        "    print(f\"Average Shortest Path Length (entire graph): {avg_shortest_path:.2f}\")\n",
        "else:\n",
        "    print(\"Graph is not connected fully conenct. Calculating average shortest path length for the largest component.\")\n",
        "    # Find the largest connected component\n",
        "    largest_component = max(nx.connected_components(G), key=len)\n",
        "    subgraph = G.subgraph(largest_component)\n",
        "\n",
        "    if subgraph.number_of_nodes() > 1:\n",
        "        avg_shortest_path = nx.average_shortest_path_length(subgraph)\n",
        "        print(f\"Average Shortest Path Length (largest connected component): {avg_shortest_path:.2f}\")\n",
        "    else:\n",
        "        avg_shortest_path = 0\n",
        "        print(\"The largest component has only one node, cannot calculate average shortest path length.\")"
      ],
      "execution_count": 24,
      "outputs": [
        {
          "output_type": "stream",
          "name": "stdout",
          "text": [
            "Graph is not connected. Calculating average shortest path length for the largest component.\n",
            "Average Shortest Path Length (largest connected component): 2.90\n"
          ]
        }
      ]
    },
    {
      "cell_type": "markdown",
      "source": [
        "### Average cluster coefficient"
      ],
      "metadata": {
        "id": "PG02kLPFlJ-T"
      }
    },
    {
      "cell_type": "code",
      "metadata": {
        "colab": {
          "base_uri": "https://localhost:8080/"
        },
        "id": "1e1b68d7",
        "outputId": "dc8e1896-f13e-46e0-8183-02e65c7764fc"
      },
      "source": [
        "# Calculate Average Clustering Coefficient\n",
        "avg_clustering = nx.average_clustering(G)\n",
        "\n",
        "# Print the calculated average clustering coefficient\n",
        "print(f\"Average Clustering Coefficient: {avg_clustering:.2f}\")"
      ],
      "execution_count": 9,
      "outputs": [
        {
          "output_type": "stream",
          "name": "stdout",
          "text": [
            "Average Clustering Coefficient: 0.41\n"
          ]
        }
      ]
    },
    {
      "cell_type": "markdown",
      "source": [
        "### Coleman coeficcient for homophily"
      ],
      "metadata": {
        "id": "vb1I3tW1lSMw"
      }
    },
    {
      "cell_type": "code",
      "metadata": {
        "colab": {
          "base_uri": "https://localhost:8080/"
        },
        "id": "36841be3",
        "outputId": "74f6035c-cfc7-4494-d498-f8403a128757"
      },
      "source": [
        "# Calculate the Coleman index of homophily for the 'gender'\n",
        "coleman_gender = attribute_assortativity_coefficient(G, 'gender')\n",
        "print(f\"\\nColeman Index of Homophily (Gender) - using attribute assortativity coefficient: {coleman_gender:.2f}\")"
      ],
      "execution_count": 16,
      "outputs": [
        {
          "output_type": "stream",
          "name": "stdout",
          "text": [
            "\n",
            "Coleman Index of Homophily (Gender) - using attribute assortativity coefficient: -0.10\n"
          ]
        }
      ]
    },
    {
      "cell_type": "code",
      "metadata": {
        "colab": {
          "base_uri": "https://localhost:8080/"
        },
        "id": "BkR3qxa-jjGT",
        "outputId": "a871faa2-1636-4e69-b9a7-7968d9b1e9dd"
      },
      "source": [
        "# Calculate the attribute assortativity coefficient for 'type' (e.g., level of studies)\n",
        "level_study_assortativity = attribute_assortativity_coefficient(G, 'type')\n",
        "\n",
        "# Display the calculated Coleman Index of Homophily\n",
        "print(f\"\\nColeman Index of Homophily based on Level of Studies: {level_study_assortativity:.2f}\")"
      ],
      "execution_count": 27,
      "outputs": [
        {
          "output_type": "stream",
          "name": "stdout",
          "text": [
            "\n",
            "Coleman Index of Homophily based on Level of Studies: 0.31\n"
          ]
        }
      ]
    },
    {
      "cell_type": "markdown",
      "source": [
        "## Conlusion and final remarks"
      ],
      "metadata": {
        "id": "_-whM-iXl5e8"
      }
    },
    {
      "cell_type": "markdown",
      "source": [
        "We are analyzing a small but highly connected social network, characterized by a mean degree of approximately 4. This indicates that, on average, each individual is directly connected to four others. However, the variance in degree is relatively high (6.5), suggesting considerable heterogeneity in the number of connections. This is driven by a few highly connected individuals—three nodes have more than nine connections, acting as potential hubs or central figures within the network.\n",
        "\n",
        "All but one person in the network is connected to at least one other, reflecting a strong overall level of inclusion. Nevertheless, the average distance (2.9) is somewhat large given the small size and relatively high average degree of the network. This suggests that while most individuals are connected, paths between some nodes may still be relatively long, likely due to the network’s moderate density (0.117). This density means that only about 11.7% of all possible ties are present, which limits the speed or ease with which information or influence might travel across the network.\n",
        "\n",
        "In terms of homophily, we find differing patterns depending on the attribute examined:\n",
        "\n",
        "Gender-based homophily appears to be slightly negative, indicating that individuals are not more likely to be connected to others of the same gender. This could be due to an imbalance in gender distribution (e.g., if one gender is dominant in the sample, men), which structurally limits the potential for same-gender connections. It's also possible that gender is not a salient attribute in the formation of ties within this group.\n",
        "\n",
        "In contrast, homophily based on student level (e.g., undergraduate vs. master's) is positive and notably stronger. This suggests that individuals are more likely to connect with others at the same academic level. One plausible explanation is shared academic experiences, such as attending the same courses or participating in group assignments, which foster repeated interactions and thus social ties.\n",
        "\n",
        "Overall, the structure and dynamics of this network reveal moderate cohesion with key hubs, and attribute-based preferences that shape connection patterns, particularly by academic level rather than gender."
      ],
      "metadata": {
        "id": "Z6EEXoyNmj5b"
      }
    },
    {
      "cell_type": "code",
      "source": [],
      "metadata": {
        "id": "whqu28IWniIj"
      },
      "execution_count": 33,
      "outputs": []
    }
  ]
}